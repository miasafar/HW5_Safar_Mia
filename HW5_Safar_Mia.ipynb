{
 "cells": [
  {
   "cell_type": "code",
   "execution_count": 1,
   "id": "08bb4b27",
   "metadata": {},
   "outputs": [],
   "source": [
    "#Question 1"
   ]
  },
  {
   "cell_type": "code",
   "execution_count": 26,
   "id": "252c85cb",
   "metadata": {},
   "outputs": [
    {
     "name": "stdout",
     "output_type": "stream",
     "text": [
      "Hi, my name is  Alex I am a 25 year old female and I am 5.3\n",
      "Hi, my name is  Jonathan I am a 30 year old male and I am 6.1\n"
     ]
    }
   ],
   "source": [
    "class Human():\n",
    "    ishomosapien=True\n",
    "    hasarms=True\n",
    "    needswater=True\n",
    "    hashead=True\n",
    "    def __init__(self ,name,age,gender,height):\n",
    "        self.name=name\n",
    "        self.age=age\n",
    "        self.gender=gender\n",
    "        self.height=height\n",
    "    def introduce(self):\n",
    "        print(\"Hi, my name is \", self.name, \"I am a\", self.age, \"year old\", self.gender, \"and I am\", self.height,)\n",
    "A=Human('Alex',25,'female','5.3')\n",
    "B=Human('Jonathan',30,'male','6.1')\n",
    "\n",
    "A.introduce()\n",
    "B.introduce()\n",
    "        "
   ]
  },
  {
   "cell_type": "code",
   "execution_count": 27,
   "id": "4893203c",
   "metadata": {},
   "outputs": [
    {
     "data": {
      "text/plain": [
       "5.0"
      ]
     },
     "execution_count": 27,
     "metadata": {},
     "output_type": "execute_result"
    }
   ],
   "source": [
    "#Question 2\n",
    "import math\n",
    "\n",
    "class Point:\n",
    "    def __init__(self, x=0, y=0):\n",
    "        self.x = x\n",
    "        self.y = y\n",
    "    def distance(self):\n",
    "        return (self.x ** 2 + self.y ** 2)**0.5\n",
    "    \n",
    "A=Point(3,4)\n",
    "A.distance()\n",
    "        "
   ]
  },
  {
   "cell_type": "code",
   "execution_count": null,
   "id": "89a682a4",
   "metadata": {},
   "outputs": [],
   "source": [
    "#Question 3 \n",
    "\n",
    "#Answer is A"
   ]
  },
  {
   "cell_type": "code",
   "execution_count": 18,
   "id": "d61e6cba",
   "metadata": {},
   "outputs": [
    {
     "name": "stdout",
     "output_type": "stream",
     "text": [
      "helloworld\n"
     ]
    }
   ],
   "source": [
    "#Question 4\n",
    "\n",
    "def main():\n",
    "    print(\"hello\", end=\"\")\n",
    "    \n",
    "try:\n",
    "    if __name__ == \"__main__\":\n",
    "        main()\n",
    "except: \n",
    "    print(\"name\")\n",
    "finally:\n",
    "    print(\"world\")"
   ]
  },
  {
   "cell_type": "code",
   "execution_count": null,
   "id": "1f881780",
   "metadata": {},
   "outputs": [],
   "source": [
    "#Question 5 \n",
    "\n",
    "#Answer is C"
   ]
  },
  {
   "cell_type": "code",
   "execution_count": 22,
   "id": "8c0a7d6b",
   "metadata": {},
   "outputs": [
    {
     "ename": "TypeError",
     "evalue": "only integers are allowed",
     "output_type": "error",
     "traceback": [
      "\u001b[0;31m---------------------------------------------------------------------------\u001b[0m",
      "\u001b[0;31mTypeError\u001b[0m                                 Traceback (most recent call last)",
      "\u001b[0;32m/var/folders/xk/8ffpc6x13xxc97ml31k1jwy1p91sts/T/ipykernel_54279/2550515236.py\u001b[0m in \u001b[0;36m<module>\u001b[0;34m\u001b[0m\n\u001b[1;32m      3\u001b[0m \u001b[0mx\u001b[0m\u001b[0;34m=\u001b[0m \u001b[0;34m\"hello\"\u001b[0m\u001b[0;34m\u001b[0m\u001b[0;34m\u001b[0m\u001b[0m\n\u001b[1;32m      4\u001b[0m \u001b[0;32mif\u001b[0m \u001b[0;32mnot\u001b[0m \u001b[0mtype\u001b[0m\u001b[0;34m(\u001b[0m\u001b[0mx\u001b[0m\u001b[0;34m)\u001b[0m \u001b[0;32mis\u001b[0m \u001b[0mint\u001b[0m\u001b[0;34m:\u001b[0m\u001b[0;34m\u001b[0m\u001b[0;34m\u001b[0m\u001b[0m\n\u001b[0;32m----> 5\u001b[0;31m     \u001b[0;32mraise\u001b[0m \u001b[0mTypeError\u001b[0m\u001b[0;34m(\u001b[0m\u001b[0;34m\"only integers are allowed\"\u001b[0m\u001b[0;34m)\u001b[0m\u001b[0;34m\u001b[0m\u001b[0;34m\u001b[0m\u001b[0m\n\u001b[0m",
      "\u001b[0;31mTypeError\u001b[0m: only integers are allowed"
     ]
    }
   ],
   "source": [
    "#Question 6\n",
    "\n",
    "x= \"hello\"\n",
    "if not type(x) is int:\n",
    "    raise TypeError(\"only integers are allowed\")"
   ]
  },
  {
   "cell_type": "code",
   "execution_count": null,
   "id": "dcde3cc3",
   "metadata": {},
   "outputs": [],
   "source": []
  }
 ],
 "metadata": {
  "kernelspec": {
   "display_name": "Python 3 (ipykernel)",
   "language": "python",
   "name": "python3"
  },
  "language_info": {
   "codemirror_mode": {
    "name": "ipython",
    "version": 3
   },
   "file_extension": ".py",
   "mimetype": "text/x-python",
   "name": "python",
   "nbconvert_exporter": "python",
   "pygments_lexer": "ipython3",
   "version": "3.9.13"
  }
 },
 "nbformat": 4,
 "nbformat_minor": 5
}
